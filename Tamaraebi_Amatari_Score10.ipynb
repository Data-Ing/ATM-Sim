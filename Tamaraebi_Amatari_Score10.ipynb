{
 "cells": [
  {
   "cell_type": "markdown",
   "id": "c6f61584-1ac1-4d36-8576-c54dca2d70c8",
   "metadata": {},
   "source": [
    "# **1. Students Grade Evaluator**"
   ]
  },
  {
   "cell_type": "code",
   "execution_count": 1,
   "id": "b982d640-306a-4245-b11c-931897bc30d5",
   "metadata": {},
   "outputs": [
    {
     "name": "stdout",
     "output_type": "stream",
     "text": [
      "Student scores: [45, 98, 76, 50, 82, 61]\n"
     ]
    }
   ],
   "source": [
    "# list of student scores\n",
    "student_score = [45, 98, 76, 50, 82, 61]\n",
    "\n",
    "print(f\"Student scores: {student_score}\") "
   ]
  },
  {
   "cell_type": "code",
   "execution_count": 2,
   "id": "fa1119d0-1ae8-4007-89a3-e33d0f1dddc4",
   "metadata": {},
   "outputs": [],
   "source": [
    "# grade_student(score) function\n",
    "def grade_student(score):\n",
    "    if score >= 80:\n",
    "        return \"A\"\n",
    "    elif score >= 70 and score <= 79:\n",
    "        return \"B\"\n",
    "    elif score >= 60 and score <= 69:\n",
    "        return \"C\"\n",
    "    elif score >= 50 and score <= 59:\n",
    "        return \"D\"\n",
    "    else:\n",
    "        return \"F\""
   ]
  },
  {
   "cell_type": "code",
   "execution_count": 3,
   "id": "8b885875-7a61-4828-a57c-777fc4fd61ac",
   "metadata": {},
   "outputs": [
    {
     "name": "stdout",
     "output_type": "stream",
     "text": [
      "Student 1: Score = 45, Grade = F\n",
      "Student 2: Score = 98, Grade = A\n",
      "Student 3: Score = 76, Grade = B\n",
      "Student 4: Score = 50, Grade = D\n",
      "Student 5: Score = 82, Grade = A\n",
      "Student 6: Score = 61, Grade = C\n"
     ]
    }
   ],
   "source": [
    "# loop to print result\n",
    "generator = list(enumerate(student_score))\n",
    "\n",
    "for index, scores in generator:\n",
    "    grades = grade_student(scores)\n",
    "    print(f\"Student {index + 1}: Score = {scores}, Grade = {grades}\")"
   ]
  },
  {
   "cell_type": "markdown",
   "id": "6e575a41",
   "metadata": {},
   "source": [
    "# **2. ATM Simulator**"
   ]
  },
  {
   "cell_type": "code",
   "execution_count": 7,
   "id": "5e9e891e",
   "metadata": {},
   "outputs": [],
   "source": [
    "def atm_machine():\n",
    "    current_bal = 1000.0   # variable balance\n",
    "    menu = [\"Check Balance\", \"Deposit Money\", \"Withhdraw Money\", \"Exit\"]   # list of options\n",
    "        \n",
    "    gen = list(enumerate(menu))\n",
    "    \n",
    "    x = 0\n",
    "    while x != 1: # keeps program running\n",
    "            \n",
    "        try:   # handles input that are not numbers\n",
    "                \n",
    "            print(\"WELCOME TO FAST⌁LINK BANKING \\n\\nSelect the task you wish to perform: \") \n",
    "                \n",
    "            for num, display in gen:  # displays options to users\n",
    "                num  += 1\n",
    "                print(f\"{num}. {display}\")\n",
    "            print()  # blank spacing\n",
    "        \n",
    "            user_response = int(input())\n",
    "            if user_response == 1:    # displays 'Check balance' option\n",
    "                print(f\"Current balance: ₦{current_bal}\")\n",
    "                print()\n",
    "            \n",
    "            elif user_response == 2:   # displays 'Deposit Money' option\n",
    "                deposit_amnt = float(input(\"Input deposit amount: \"))\n",
    "                print()\n",
    "                \n",
    "                current_bal = round((current_bal + deposit_amnt), 2)    # adds money to update variable balance\n",
    "                print(f\"Your transaction was successful. \\nCurrent balance: ₦{current_bal}\")\n",
    "                print()\n",
    "        \n",
    "            elif user_response == 3:   # displays 'Withdraw Money' option\n",
    "                withdrawal_amnt = float(input(\"Input withdrawal amount: \"))\n",
    "                print()\n",
    "        \n",
    "                if withdrawal_amnt <= current_bal:   # checks if enough balance exists\n",
    "                    current_bal = round((current_bal - withdrawal_amnt), 2)       # subtracts money to update variable balance \n",
    "                    print(f\"Your transaction was successful. \\nCurrent balance: ₦{current_bal}\")   \n",
    "                else:\n",
    "                    print(\"Oops!!! \\nYou have insufficient balance to complete this transaction \\nKindly refund your account and try again\")\n",
    "                print()\n",
    "            \n",
    "            elif user_response == 4:   # displays 'Exit' option\n",
    "                print(\"Thank you for banking with us\")\n",
    "                print()\n",
    "                break    # stops program from running\n",
    "                    \n",
    "            else:   # handles option inputs other than 1-4 \n",
    "                print(\"Invalid Option. Only numbers 1, 2, 3, or 4 can be entered. \\nPlease try again\")\n",
    "                print()\n",
    "            \n",
    "        except ValueError:   # handles inputs that are not numbers\n",
    "            print(\"Invalid Input. Only numbers can be entered. \\nPlease try again\\n\")\n",
    "                \n",
    "    return \"FAST⌁LINK BANKING...we dey 4 u\"   # stores function in variable\n",
    "\n",
    "     "
   ]
  },
  {
   "cell_type": "code",
   "execution_count": 9,
   "id": "4cf92469-32e3-460d-ac8a-22ec32e655d9",
   "metadata": {},
   "outputs": [
    {
     "name": "stdout",
     "output_type": "stream",
     "text": [
      "WELCOME TO FAST⌁LINK BANKING \n",
      "\n",
      "Select the task you wish to perform: \n",
      "1. Check Balance\n",
      "2. Deposit Money\n",
      "3. Withhdraw Money\n",
      "4. Exit\n",
      "\n",
      "Current balance: ₦1000.0\n",
      "\n",
      "WELCOME TO FAST⌁LINK BANKING \n",
      "\n",
      "Select the task you wish to perform: \n",
      "1. Check Balance\n",
      "2. Deposit Money\n",
      "3. Withhdraw Money\n",
      "4. Exit\n",
      "\n",
      "\n",
      "Your transaction was successful. \n",
      "Current balance: ₦1040.0\n",
      "\n",
      "WELCOME TO FAST⌁LINK BANKING \n",
      "\n",
      "Select the task you wish to perform: \n",
      "1. Check Balance\n",
      "2. Deposit Money\n",
      "3. Withhdraw Money\n",
      "4. Exit\n",
      "\n",
      "\n",
      "Oops!!! \n",
      "You have insufficient balance to complete this transaction \n",
      "Kindly refund your account and try again\n",
      "\n",
      "WELCOME TO FAST⌁LINK BANKING \n",
      "\n",
      "Select the task you wish to perform: \n",
      "1. Check Balance\n",
      "2. Deposit Money\n",
      "3. Withhdraw Money\n",
      "4. Exit\n",
      "\n",
      "Invalid Input. Only numbers can be entered. \n",
      "Please try again\n",
      "\n",
      "WELCOME TO FAST⌁LINK BANKING \n",
      "\n",
      "Select the task you wish to perform: \n",
      "1. Check Balance\n",
      "2. Deposit Money\n",
      "3. Withhdraw Money\n",
      "4. Exit\n",
      "\n",
      "Invalid Input. Only numbers can be entered. \n",
      "Please try again\n",
      "\n",
      "WELCOME TO FAST⌁LINK BANKING \n",
      "\n",
      "Select the task you wish to perform: \n",
      "1. Check Balance\n",
      "2. Deposit Money\n",
      "3. Withhdraw Money\n",
      "4. Exit\n",
      "\n",
      "Invalid Option. Only numbers 1, 2, 3, or 4 can be entered. \n",
      "Please try again\n",
      "\n",
      "WELCOME TO FAST⌁LINK BANKING \n",
      "\n",
      "Select the task you wish to perform: \n",
      "1. Check Balance\n",
      "2. Deposit Money\n",
      "3. Withhdraw Money\n",
      "4. Exit\n",
      "\n",
      "\n",
      "Your transaction was successful. \n",
      "Current balance: ₦340.0\n",
      "\n",
      "WELCOME TO FAST⌁LINK BANKING \n",
      "\n",
      "Select the task you wish to perform: \n",
      "1. Check Balance\n",
      "2. Deposit Money\n",
      "3. Withhdraw Money\n",
      "4. Exit\n",
      "\n",
      "Thank you for banking with us\n",
      "\n",
      "FAST⌁LINK BANKING...we dey 4 u\n"
     ]
    }
   ],
   "source": [
    "# defined function with wrapped up ATM logic\n",
    "atm_simulator = atm_machine()\n",
    "\n",
    "print(atm_simulator)"
   ]
  },
  {
   "cell_type": "code",
   "execution_count": null,
   "id": "e4f55692",
   "metadata": {},
   "outputs": [],
   "source": []
  }
 ],
 "metadata": {
  "kernelspec": {
   "display_name": "Python 3",
   "language": "python",
   "name": "python3"
  },
  "language_info": {
   "codemirror_mode": {
    "name": "ipython",
    "version": 3
   },
   "file_extension": ".py",
   "mimetype": "text/x-python",
   "name": "python",
   "nbconvert_exporter": "python",
   "pygments_lexer": "ipython3",
   "version": "3.13.5"
  }
 },
 "nbformat": 4,
 "nbformat_minor": 5
}
